from sys import argv

script, file_name = argv

text = open(file_name)

print ("Opening", file_name)
print (text.read())