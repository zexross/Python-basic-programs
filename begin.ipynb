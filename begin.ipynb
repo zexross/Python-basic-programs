{
 "cells": [
  {
   "cell_type": "code",
   "execution_count": 11,
   "metadata": {},
   "outputs": [
    {
     "name": "stdout",
     "output_type": "stream",
     "text": [
      "my name zexross.\n",
      "do you know how many classmates are present today?\n",
      "i saw 51\n",
      "so number of students absent:3\n",
      "How much rishab told you?\n",
      "He told 10 were absent. False\n"
     ]
    }
   ],
   "source": [
    "print (\"my name zexross.\")\n",
    "print (\"do you know how many classmates are present today?\")\n",
    "student_num = 51\n",
    "print (\"i saw\", student_num)\n",
    "print (\"so number of students absent:%d\" %(54-student_num))\n",
    "print (\"How much rishab told you?\")\n",
    "print (\"He told 10 were absent.\", 10==54-student_num)"
   ]
  },
  {
   "cell_type": "code",
   "execution_count": 16,
   "metadata": {},
   "outputs": [
    {
     "name": "stdout",
     "output_type": "stream",
     "text": [
      "Nevertheless, what is the status of the availability of vehicles for tour\n",
      "there are 100 available for the tour\n",
      "But number of drivers available are 30\n",
      "We need to put about 3 in a car\n"
     ]
    }
   ],
   "source": [
    "print (\"Nevertheless, what is the status of the availability of vehicles for tour\")\n",
    "cars = 100\n",
    "space_in_car = 4\n",
    "drivers = 30\n",
    "passengers = 90\n",
    "no_passenger_in_car = passengers/drivers\n",
    "print (\"there are\",cars,\"available for the tour\")\n",
    "print (\"But number of drivers available are\",drivers)\n",
    "print (\"We need to put about\", int(no_passenger_in_car),\"in a car\")\n"
   ]
  },
  {
   "cell_type": "code",
   "execution_count": 24,
   "metadata": {
    "scrolled": true
   },
   "outputs": [
    {
     "name": "stdout",
     "output_type": "stream",
     "text": [
      "that's great. So have we figured out a where are we heading to mount everest or roorkee?\n",
      "Yeah! after a lot of comotion roorkee was deicded. Initially, It felt like the debate of tour destinaation will never end. But finally all 51 classmates settled\n"
     ]
    }
   ],
   "source": [
    "print (\"that's great. So have we figured out a where are we heading to mount everest or roorkee?\")\n",
    "destination = 'roorkee'\n",
    "print (\"Yeah! after a lot of comotion %s was deicded. Initially, It felt like the debate of tour destinaation will never end. But finally all %d classmates settled\" %(destination,student_num))\n"
   ]
  },
  {
   "cell_type": "code",
   "execution_count": 33,
   "metadata": {},
   "outputs": [
    {
     "name": "stdout",
     "output_type": "stream",
     "text": [
      "We will depart at '7 am' from 'Adda Restaurent'\n",
      "What about the snacks during travel?\n",
      "They have been purchased already per head cost will be around 30 rupees. And it will be sufficient for the whole travel\n"
     ]
    }
   ],
   "source": [
    "departure_time = '7 am'\n",
    "departure_location = 'Adda Restaurent'\n",
    "cost = 'per head cost will be around 30 rupees. And it will be sufficient for the whole travel'\n",
    "timing  = 'We will depart at %r from %r' %(departure_time,departure_location)\n",
    "q_snacks = 'What about the snacks during travel?'\n",
    "snacks = 'They have been purchased already %s'\n",
    "print (timing)\n",
    "print (q_snacks)\n",
    "print (snacks %cost)"
   ]
  },
  {
   "cell_type": "code",
   "execution_count": null,
   "metadata": {},
   "outputs": [],
   "source": []
  }
 ],
 "metadata": {
  "kernelspec": {
   "display_name": "Python 3",
   "language": "python",
   "name": "python3"
  },
  "language_info": {
   "codemirror_mode": {
    "name": "ipython",
    "version": 3
   },
   "file_extension": ".py",
   "mimetype": "text/x-python",
   "name": "python",
   "nbconvert_exporter": "python",
   "pygments_lexer": "ipython3",
   "version": "3.7.2"
  }
 },
 "nbformat": 4,
 "nbformat_minor": 2
}
