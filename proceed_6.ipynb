from sys import argv

script, filename = argv

print ("opening the file!", filename)
text = open(filename , 'w')

response = input("Do you want to truncate the file?")

if(response == "yes"):
   text.truncate()

print ("Enter the text that you want to write")
line1 = input("line 1:")
line2 = input("line 2:")

print ("writing the given lines")
text.write(line1)
text.write("\n")
text.write(line2)
text.write("\n")

print ("Saving and closing the fie")
text.close()
