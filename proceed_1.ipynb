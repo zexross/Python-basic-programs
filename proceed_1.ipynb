{
 "cells": [
  {
   "cell_type": "code",
   "execution_count": 3,
   "metadata": {},
   "outputs": [
    {
     "name": "stdout",
     "output_type": "stream",
     "text": [
      "Its fleece was white as snow.\n",
      "And everywhere that Mary went.\n",
      "..........\n"
     ]
    }
   ],
   "source": [
    "print (\"Its fleece was white as %s.\" %'snow')\n",
    "print (\"And everywhere that Mary went.\")\n",
    "print (\".\"*10) #what'd that do?"
   ]
  },
  {
   "cell_type": "code",
   "execution_count": 7,
   "metadata": {},
   "outputs": [
    {
     "name": "stdout",
     "output_type": "stream",
     "text": [
      "Cheese Butter\n"
     ]
    }
   ],
   "source": [
    "end1 = \"C\"\n",
    "end2 = \"h\"\n",
    "end3 = \"e\"\n",
    "end4 = \"e\"\n",
    "end5 = \"s\"\n",
    "end6 = \"e\"\n",
    "end7 = \"B\"\n",
    "end8 = \"u\"\n",
    "end9 = \"t\"\n",
    "end10 = \"t\"\n",
    "end11 = \"e\"\n",
    "end12 = \"r\"\n",
    "\n",
    "#watch the part after comma. try removing it to see what happens\n",
    "print (end1+end2+end3+end4+end5+end6,end=\" \")\n",
    "print (end7+end8+end9+end10+end11+end12)"
   ]
  },
  {
   "cell_type": "code",
   "execution_count": 1,
   "metadata": {},
   "outputs": [
    {
     "name": "stdout",
     "output_type": "stream",
     "text": [
      "1 2 3 4\n",
      "'one' 'two' 'three' 'four'\n",
      "'%r %r %r %r' '%r %r %r %r' '%r %r %r %r' '%r %r %r %r'\n",
      "'The time is boring/n' 'yet we know choice/n' 'we could only effectively utilise the time/n' 'and make it productive'\n"
     ]
    }
   ],
   "source": [
    "formatter = \"%r %r %r %r\"\n",
    "print (formatter %(1,2,3,4))\n",
    "print (formatter %('one','two','three','four'))\n",
    "print (formatter %(formatter,formatter,formatter,formatter))\n",
    "print (formatter %('The time is boring/n','yet we have no choice/n','we could only effectively utilise the time/n','and make it productive'))"
   ]
  },
  {
   "cell_type": "code",
   "execution_count": 2,
   "metadata": {},
   "outputs": [
    {
     "name": "stdout",
     "output_type": "stream",
     "text": [
      "1 2 3 4\n",
      "one two three four\n",
      "%s %s %s %s %s %s %s %s %s %s %s %s %s %s %s %s\n",
      "The time is boring/n yet we know choice/n we could only effectively utilise the time/n and make it productive\n"
     ]
    }
   ],
   "source": [
    "formatter = \"%s %s %s %s\"\n",
    "print (formatter %(1,2,3,4))\n",
    "print (formatter %('one','two','three','four'))\n",
    "print (formatter %(formatter,formatter,formatter,formatter))\n",
    "print (formatter %('The time is boring/n','yet we have no choice/n','we could only effectively utilise the time/n','and make it productive'))"
   ]
  },
  {
   "cell_type": "code",
   "execution_count": 4,
   "metadata": {},
   "outputs": [
    {
     "name": "stdout",
     "output_type": "stream",
     "text": [
      "1\n",
      "2\n",
      "3\n",
      "4\n",
      "one\n",
      "two\n",
      "three\n",
      "four\n",
      "%s\n",
      "%s\n",
      "%s\n",
      "%s\n",
      "%s\n",
      "%s\n",
      "%s\n",
      "%s\n",
      "%s\n",
      "%s\n",
      "%s\n",
      "%s\n",
      "%s\n",
      "%s\n",
      "%s\n",
      "%s\n",
      "The time is boring\n",
      "yet we know choice\n",
      "we could only effectively utilise the time\n",
      "and make it productive\n"
     ]
    }
   ],
   "source": [
    "formatter = \"%s\\n%s\\n%s\\n%s\"\n",
    "print (formatter %(1,2,3,4))\n",
    "print (formatter %('one','two','three','four'))\n",
    "print (formatter %(formatter,formatter,formatter,formatter))\n",
    "print (formatter %('The time is boring','yet we have no choice','we could only effectively utilise the time','and make it productive'))"
   ]
  },
  {
   "cell_type": "code",
   "execution_count": 5,
   "metadata": {},
   "outputs": [
    {
     "name": "stdout",
     "output_type": "stream",
     "text": [
      "1 2 3 4\n",
      "one two three four\n",
      "%s %s %s %s %s %s %s %s %s %s %s %s %s %s %s %s\n",
      "The time is boring\n",
      " yet we know choice\n",
      " we could only effectively utilise the time\n",
      " and make it productive\n"
     ]
    }
   ],
   "source": [
    "formatter = \"%s %s %s %s\"\n",
    "print (formatter %(1,2,3,4))\n",
    "print (formatter %('one','two','three','four'))\n",
    "print (formatter %(formatter,formatter,formatter,formatter))\n",
    "print (formatter %('The time is boring\\n','yet we have no choice\\n','we could only effectively utilise the time\\n','and make it productive'))"
   ]
  },
  {
   "cell_type": "code",
   "execution_count": 10,
   "metadata": {},
   "outputs": [
    {
     "name": "stdout",
     "output_type": "stream",
     "text": [
      "Here are the days:  mon tue wed thu fri sat sun\n",
      "Here are the months:  Jan\n",
      "Feb\n",
      "Mar\n",
      "Apr\n",
      "May\n",
      "Jun\n",
      "Jul\n",
      "Aug\n",
      "\n",
      "This certainly would interesting to watch the Marvel's next breakthrough movie.\n",
      "Because in the tough situation like narrowing the gap between the comics and movies experience.\n",
      "This is something not  everyone else is able to achieve as Marvel did.\n"
     ]
    }
   ],
   "source": [
    "#Here is some new strange stuff, remember type it exactly.\n",
    "\n",
    "days = \"mon tue wed thu fri sat sun\"\n",
    "months = \"Jan\\nFeb\\nMar\\nApr\\nMay\\nJun\\nJul\\nAug\"\n",
    "\n",
    "print (\"Here are the days: \",days)\n",
    "print (\"Here are the months: \",months)\n",
    "print (\"\"\"\n",
    "This certainly would interesting to watch the Marvel's next breakthrough movie.\n",
    "Because in the tough situation like narrowing the gap between the comics and movies experience.\n",
    "This is something not  everyone else is able to achieve as Marvel did.\"\"\")"
   ]
  },
  {
   "cell_type": "code",
   "execution_count": 9,
   "metadata": {},
   "outputs": [
    {
     "name": "stdout",
     "output_type": "stream",
     "text": [
      "Here are the days:  mon tue wed thu fri sat sun\n",
      "Here are the months:  Jan\n",
      "Feb\n",
      "Mar\n",
      "Apr\n",
      "May\n",
      "Jun\n",
      "Jul\n",
      "Aug\n",
      "\n",
      "This certainly would interesting to watch the Marvel's next breakthrough movie.\n",
      "Because in the tough situation like narrowing the gap between the comics and movies experience.\n",
      "This is something not  everyone else is able to achieve as Marvel did.\n",
      "Best of luck Marvel. :D\n"
     ]
    }
   ],
   "source": [
    "#Here is some new strange stuff, remember type it exactly.\n",
    "\n",
    "days = \"mon tue wed thu fri sat sun\"\n",
    "months = \"Jan\\nFeb\\nMar\\nApr\\nMay\\nJun\\nJul\\nAug\"\n",
    "\n",
    "print (\"Here are the days: \",days)\n",
    "print (\"Here are the months: \",months)\n",
    "print (\"\"\"\n",
    "This certainly would interesting to watch the Marvel's next breakthrough movie.\n",
    "Because in the tough situation like narrowing the gap between the comics and movies experience.\n",
    "This is something not  everyone else is able to achieve as Marvel did.\\nBest of luck Marvel. :D\"\"\")"
   ]
  },
  {
   "cell_type": "code",
   "execution_count": 16,
   "metadata": {},
   "outputs": [
    {
     "name": "stdout",
     "output_type": "stream",
     "text": [
      "I'm tabbed in Or Am I?.\n",
      "I'm split\n",
      "on a line.\n",
      "I'm \\ a \\ mess.\n",
      "I'll do a list:\n",
      "\t*cat food\n",
      "\t*Fishes\n",
      "\t*Catnip\n",
      "\t*Grass\n"
     ]
    }
   ],
   "source": [
    "tabby_cat = \"I'm tabbed in Or Am I?.\"\n",
    "persian_cat = \"I'm split\\non a line.\"\n",
    "blacklash_cat = \"I'm \\\\ a \\\\ mess.\"\n",
    "\n",
    "fat_cat = \"\"\"I'll do a list:\n",
    "\\t*cat food\n",
    "\\t*Fishes\n",
    "\\t*Catnip\\n\\t*Grass\"\"\"\n",
    "\n",
    "print (tabby_cat)\n",
    "print (persian_cat)\n",
    "print (blacklash_cat)\n",
    "print (fat_cat)"
   ]
  },
  {
   "cell_type": "code",
   "execution_count": null,
   "metadata": {},
   "outputs": [],
   "source": []
  }
 ],
 "metadata": {
  "kernelspec": {
   "display_name": "Python 3",
   "language": "python",
   "name": "python3"
  },
  "language_info": {
   "codemirror_mode": {
    "name": "ipython",
    "version": 3
   },
   "file_extension": ".py",
   "mimetype": "text/x-python",
   "name": "python",
   "nbconvert_exporter": "python",
   "pygments_lexer": "ipython3",
   "version": "3.7.1"
  }
 },
 "nbformat": 4,
 "nbformat_minor": 2
}
