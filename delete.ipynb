{
 "cells": [
  {
   "cell_type": "code",
   "execution_count": null,
   "metadata": {},
   "outputs": [],
   "source": [
    "# Opens the txt file\n",
    "text = open(r\"C:\\Users\\youze\\Documents\\Data.txt\")\n",
    "\n",
    "print (\"Opening\")\n",
    "lines=text.read().split(',')"
   ]
  },
  {
   "cell_type": "code",
   "execution_count": null,
   "metadata": {},
   "outputs": [],
   "source": [
    "print(len(lines))\n",
    "a=[]\n",
    "i = 0\n",
    "for k in range(0,len(lines)):\n",
    "    if(lines[k]=='0\\n0'):\n",
    "        a.append(0)\n",
    "        a.append(0)\n",
    "        \n",
    "    else:\n",
    "        if(int(lines[k])>0):\n",
    "            lines[k]=1\n",
    "        a.append(lines[k])\n",
    "        "
   ]
  },
  {
   "cell_type": "code",
   "execution_count": null,
   "metadata": {},
   "outputs": [],
   "source": [
    "output=open(r\"C:\\Users\\youze\\Documents\\output.txt\",'w')\n",
    "for k in range(0,500):\n",
    "    for i in range(0,28):\n",
    "        for j in range(0,28):\n",
    "            output.write('%d' %int(a[j + i*28 + k*784]))\n",
    "        output.write(\"\\n\")\n",
    "    output.write(\"\\n\\n\\n\")"
   ]
  }
 ],
 "metadata": {
  "kernelspec": {
   "display_name": "Python 3",
   "language": "python",
   "name": "python3"
  },
  "language_info": {
   "codemirror_mode": {
    "name": "ipython",
    "version": 3
   },
   "file_extension": ".py",
   "mimetype": "text/x-python",
   "name": "python",
   "nbconvert_exporter": "python",
   "pygments_lexer": "ipython3",
   "version": "3.7.2"
  }
 },
 "nbformat": 4,
 "nbformat_minor": 2
}
