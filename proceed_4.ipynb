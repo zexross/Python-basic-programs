from sys import argv
script, user_name = argv
prompt = '->'
print ("openinig the script", script)
print ("Hello! I would like to ask you some question?")
print ("What is your name?")
user = input(prompt)
print ("Hello! %s you are awesome. :D" %user)